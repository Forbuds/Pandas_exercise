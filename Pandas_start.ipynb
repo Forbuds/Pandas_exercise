{
 "cells": [
  {
   "attachments": {},
   "cell_type": "markdown",
   "metadata": {},
   "source": [
    "# 잘 몰라서 시작하는 pandas 기초"
   ]
  },
  {
   "cell_type": "code",
   "execution_count": 2,
   "metadata": {},
   "outputs": [
    {
     "ename": "ModuleNotFoundError",
     "evalue": "No module named 'numpy'",
     "output_type": "error",
     "traceback": [
      "\u001b[1;31m---------------------------------------------------------------------------\u001b[0m",
      "\u001b[1;31mModuleNotFoundError\u001b[0m                       Traceback (most recent call last)",
      "Cell \u001b[1;32mIn[2], line 1\u001b[0m\n\u001b[1;32m----> 1\u001b[0m \u001b[39mimport\u001b[39;00m \u001b[39mnumpy\u001b[39;00m \u001b[39mas\u001b[39;00m \u001b[39mnp\u001b[39;00m\n",
      "\u001b[1;31mModuleNotFoundError\u001b[0m: No module named 'numpy'"
     ]
    }
   ],
   "source": [
    "import numpy as npd"
   ]
  },
  {
   "cell_type": "code",
   "execution_count": 3,
   "metadata": {},
   "outputs": [
    {
     "name": "stdout",
     "output_type": "stream",
     "text": [
      "Package            VersionNote: you may need to restart the kernel to use updated packages.\n",
      "\n",
      "------------------ -------\n",
      "asttokens          2.2.1\n",
      "backcall           0.2.0\n",
      "colorama           0.4.6\n",
      "comm               0.1.3\n",
      "debugpy            1.6.7\n",
      "decorator          5.1.1\n",
      "distlib            0.3.6\n",
      "executing          1.2.0\n",
      "filelock           3.12.0\n",
      "importlib-metadata 6.6.0\n",
      "ipykernel          6.22.0\n",
      "ipython            8.12.2\n",
      "jedi               0.18.2\n",
      "jupyter_client     8.2.0\n",
      "jupyter_core       5.3.0\n",
      "matplotlib-inline  0.1.6\n",
      "nest-asyncio       1.5.6\n",
      "packaging          23.1\n",
      "parso              0.8.3\n",
      "pickleshare        0.7.5\n",
      "pip                23.1.2\n",
      "platformdirs       3.5.0\n",
      "prompt-toolkit     3.0.38\n",
      "psutil             5.9.5\n",
      "pure-eval          0.2.2\n",
      "Pygments           2.15.1\n",
      "python-dateutil    2.8.2\n",
      "pywin32            306\n",
      "pyzmq              25.0.2\n",
      "setuptools         47.1.0\n",
      "six                1.16.0\n",
      "stack-data         0.6.2\n",
      "tornado            6.3.1\n",
      "traitlets          5.9.0\n",
      "typing_extensions  4.5.0\n",
      "virtualenv         20.23.0\n",
      "wcwidth            0.2.6\n",
      "wheel              0.40.0\n",
      "zipp               3.15.0\n"
     ]
    }
   ],
   "source": [
    "pip list"
   ]
  },
  {
   "cell_type": "code",
   "execution_count": null,
   "metadata": {},
   "outputs": [],
   "source": []
  }
 ],
 "metadata": {
  "kernelspec": {
   "display_name": "Python 3",
   "language": "python",
   "name": "python3"
  },
  "language_info": {
   "codemirror_mode": {
    "name": "ipython",
    "version": 3
   },
   "file_extension": ".py",
   "mimetype": "text/x-python",
   "name": "python",
   "nbconvert_exporter": "python",
   "pygments_lexer": "ipython3",
   "version": "3.8.5"
  },
  "orig_nbformat": 4
 },
 "nbformat": 4,
 "nbformat_minor": 2
}
